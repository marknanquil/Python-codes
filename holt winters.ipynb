{
 "cells": [
  {
   "cell_type": "code",
   "execution_count": 1,
   "metadata": {},
   "outputs": [],
   "source": [
    "import pandas as pd\n",
    "import numpy as np\n",
    "import matplotlib.pyplot as plt\n",
    "from sklearn.metrics import mean_squared_error\n",
    "from statsmodels.tsa.holtwinters import ExponentialSmoothing"
   ]
  },
  {
   "cell_type": "code",
   "execution_count": 14,
   "metadata": {},
   "outputs": [],
   "source": [
    "ts = {'y': [10,14,8,25,16,22,14,35,15,27,18,40,28,40,25,65],\n",
    "      'qtr': ['2010-03-01','2010-06-01','2010-09-01','2010-12-01'\n",
    "           ,'2011-03-01','2011-06-01','2011-09-01','2011-12-01'\n",
    "           ,'2012-03-01','2012-06-01','2012-09-01','2012-12-01'\n",
    "           ,'2013-03-01','2013-06-01','2013-09-01','2013-12-01']}"
   ]
  },
  {
   "cell_type": "code",
   "execution_count": 25,
   "metadata": {},
   "outputs": [],
   "source": [
    "ts['qtr'] = pd.to_datetime(ts['qtr'])\n",
    "ts1       = pd.DataFrame(ts)\n",
    "ts_df     = ts1.set_index('qtr')"
   ]
  },
  {
   "cell_type": "code",
   "execution_count": 26,
   "metadata": {},
   "outputs": [],
   "source": [
    "from statsmodels.tsa.holtwinters import ExponentialSmoothing\n",
    "from sklearn.metrics import mean_squared_error"
   ]
  },
  {
   "cell_type": "code",
   "execution_count": 32,
   "metadata": {},
   "outputs": [
    {
     "name": "stderr",
     "output_type": "stream",
     "text": [
      "/Applications/anaconda3/lib/python3.7/site-packages/statsmodels/tsa/base/tsa_model.py:162: ValueWarning: No frequency information was provided, so inferred frequency QS-DEC will be used.\n",
      "  % freq, ValueWarning)\n",
      "/Applications/anaconda3/lib/python3.7/site-packages/statsmodels/tsa/holtwinters.py:744: ConvergenceWarning: Optimization failed to converge. Check mle_retvals.\n",
      "  ConvergenceWarning)\n"
     ]
    }
   ],
   "source": [
    "fit = ExponentialSmoothing(ts_df, seasonal_periods=4, trend='add', seasonal='add').fit(use_boxcox=True)"
   ]
  },
  {
   "cell_type": "code",
   "execution_count": 33,
   "metadata": {},
   "outputs": [
    {
     "data": {
      "image/png": "[encoded data removed]",
      "text/plain": [
       "<Figure size 432x288 with 1 Axes>"
      ]
     },
     "metadata": {
      "needs_background": "light"
     },
     "output_type": "display_data"
    }
   ],
   "source": [
    "plt.plot(fit.fittedvalues)\n",
    "plt.plot(ts_df)\n",
    "plt.plot(fit.forecast(8))\n",
    "plt.show()"
   ]
  },
  {
   "cell_type": "code",
   "execution_count": 29,
   "metadata": {},
   "outputs": [
    {
     "name": "stdout",
     "output_type": "stream",
     "text": [
      "                     name     param  optimized\n",
      "smoothing_level     alpha  0.188445       True\n",
      "smoothing_slope      beta  0.188445       True\n",
      "smoothing_seasonal  gamma  0.285367       True\n",
      "initial_level         l.0  2.464780       True\n",
      "initial_slope         b.0  0.072895       True\n",
      "initial_seasons.0     s.0 -0.367017       True\n",
      "initial_seasons.1     s.1 -0.103873       True\n",
      "initial_seasons.2     s.2 -0.607841       True\n",
      "initial_seasons.3     s.3  0.184716       True\n"
     ]
    }
   ],
   "source": [
    "print(fit.params_formatted)"
   ]
  },
  {
   "cell_type": "code",
   "execution_count": 30,
   "metadata": {},
   "outputs": [
    {
     "name": "stdout",
     "output_type": "stream",
     "text": [
      "2014-03-01     36.746044\n",
      "2014-06-01     56.056593\n",
      "2014-09-01     34.322212\n",
      "2014-12-01     91.161745\n",
      "2015-03-01     51.860006\n",
      "2015-06-01     79.709329\n",
      "2015-09-01     48.381247\n",
      "2015-12-01    130.779034\n",
      "Freq: QS-DEC, dtype: float64\n"
     ]
    }
   ],
   "source": [
    "print(fit.forecast(8))"
   ]
  },
  {
   "cell_type": "code",
   "execution_count": 34,
   "metadata": {},
   "outputs": [
    {
     "name": "stdout",
     "output_type": "stream",
     "text": [
      "RMSE: 8.890600457323563\n"
     ]
    }
   ],
   "source": [
    "print('RMSE:', mean_squared_error(fit.fittedvalues, ts_df))"
   ]
  }
 ],
 "metadata": {
  "kernelspec": {
   "display_name": "Python 3",
   "language": "python",
   "name": "python3"
  },
  "language_info": {
   "codemirror_mode": {
    "name": "ipython",
    "version": 3
   },
   "file_extension": ".py",
   "mimetype": "text/x-python",
   "name": "python",
   "nbconvert_exporter": "python",
   "pygments_lexer": "ipython3",
   "version": "3.7.4"
  }
 },
 "nbformat": 4,
 "nbformat_minor": 2
}
