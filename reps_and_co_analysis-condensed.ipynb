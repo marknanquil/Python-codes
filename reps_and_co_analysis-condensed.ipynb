{
 "cells": [
  {
   "cell_type": "markdown",
   "metadata": {},
   "source": [
    "# Analysis of Mark Nanquil"
   ]
  },
  {
   "cell_type": "markdown",
   "metadata": {},
   "source": [
    "## Data Preparation"
   ]
  },
  {
   "cell_type": "markdown",
   "metadata": {},
   "source": [
    "Load Python libraries"
   ]
  },
  {
   "cell_type": "code",
   "execution_count": 1,
   "metadata": {},
   "outputs": [],
   "source": [
    "#display all rows and columns in pandas\n",
    "import pandas as pd\n",
    "pd.set_option('display.max_columns', None)\n",
    "pd.set_option('display.max_rows', None)\n",
    "\n",
    "#remove warnings\n",
    "import warnings\n",
    "warnings.filterwarnings(\"ignore\")\n",
    "\n",
    "import numpy as np"
   ]
  },
  {
   "cell_type": "markdown",
   "metadata": {},
   "source": [
    "Import the data into a pandas dataframe and perform formatting on the date column"
   ]
  },
  {
   "cell_type": "code",
   "execution_count": 2,
   "metadata": {},
   "outputs": [],
   "source": [
    "#import data\n",
    "df         = pd.read_csv('~/Downloads/991f8fa088a1b072.csv')\n",
    "df['DATE'] = pd.to_datetime(df['DATE'],format='%Y%m%d') "
   ]
  },
  {
   "cell_type": "markdown",
   "metadata": {},
   "source": [
    "Check the data types"
   ]
  },
  {
   "cell_type": "code",
   "execution_count": 3,
   "metadata": {},
   "outputs": [
    {
     "data": {
      "text/plain": [
       "FS_PERM_SEC_ID              object\n",
       "ENTITY_NAME                 object\n",
       "FF_MKT_VAL_CURR            float64\n",
       "FF_CURR_PS_CF              float64\n",
       "FF_PBK_SECS_CURR           float64\n",
       "FF_PE_SECS_CURR            float64\n",
       "DATE                datetime64[ns]\n",
       "FF_SALES                   float64\n",
       "FF_NET_INCOME              float64\n",
       "FF_ASSETS                  float64\n",
       "FF_DFD_TAX_ITC             float64\n",
       "FF_DEBT                    float64\n",
       "FF_EPS_REPORTED            float64\n",
       "FF_EQ_TOT                  float64\n",
       "FF_EPS_BASIC               float64\n",
       "FF_COGS                    float64\n",
       "FF_CAPEX                   float64\n",
       "dtype: object"
      ]
     },
     "execution_count": 3,
     "metadata": {},
     "output_type": "execute_result"
    }
   ],
   "source": [
    "df.dtypes"
   ]
  },
  {
   "cell_type": "markdown",
   "metadata": {},
   "source": [
    "Preview the first 5 rows of the data (for sanity checking only)"
   ]
  },
  {
   "cell_type": "code",
   "execution_count": 4,
   "metadata": {},
   "outputs": [
    {
     "data": {
      "text/html": [
       "<div>\n",
       "<style scoped>\n",
       "    .dataframe tbody tr th:only-of-type {\n",
       "        vertical-align: middle;\n",
       "    }\n",
       "\n",
       "    .dataframe tbody tr th {\n",
       "        vertical-align: top;\n",
       "    }\n",
       "\n",
       "    .dataframe thead th {\n",
       "        text-align: right;\n",
       "    }\n",
       "</style>\n",
       "<table border=\"1\" class=\"dataframe\">\n",
       "  <thead>\n",
       "    <tr style=\"text-align: right;\">\n",
       "      <th></th>\n",
       "      <th>FS_PERM_SEC_ID</th>\n",
       "      <th>ENTITY_NAME</th>\n",
       "      <th>FF_MKT_VAL_CURR</th>\n",
       "      <th>FF_CURR_PS_CF</th>\n",
       "      <th>FF_PBK_SECS_CURR</th>\n",
       "      <th>FF_PE_SECS_CURR</th>\n",
       "      <th>DATE</th>\n",
       "      <th>FF_SALES</th>\n",
       "      <th>FF_NET_INCOME</th>\n",
       "      <th>FF_ASSETS</th>\n",
       "      <th>FF_DFD_TAX_ITC</th>\n",
       "      <th>FF_DEBT</th>\n",
       "      <th>FF_EPS_REPORTED</th>\n",
       "      <th>FF_EQ_TOT</th>\n",
       "      <th>FF_EPS_BASIC</th>\n",
       "      <th>FF_COGS</th>\n",
       "      <th>FF_CAPEX</th>\n",
       "    </tr>\n",
       "  </thead>\n",
       "  <tbody>\n",
       "    <tr>\n",
       "      <th>0</th>\n",
       "      <td>HKS27K-S-US</td>\n",
       "      <td>CHOICEONE FINANCIAL SERVICES INC</td>\n",
       "      <td>94.1031</td>\n",
       "      <td>2.589208</td>\n",
       "      <td>1.30403</td>\n",
       "      <td>15.2072</td>\n",
       "      <td>2017-12-31</td>\n",
       "      <td>28.944</td>\n",
       "      <td>6.168</td>\n",
       "      <td>646.544</td>\n",
       "      <td>NaN</td>\n",
       "      <td>27.416</td>\n",
       "      <td>1.6952</td>\n",
       "      <td>76.550</td>\n",
       "      <td>1.7048</td>\n",
       "      <td>NaN</td>\n",
       "      <td>1.656</td>\n",
       "    </tr>\n",
       "    <tr>\n",
       "      <th>1</th>\n",
       "      <td>T1N9J9-S-US</td>\n",
       "      <td>1ST SOURCE CORP</td>\n",
       "      <td>1458.4500</td>\n",
       "      <td>4.901868</td>\n",
       "      <td>1.97015</td>\n",
       "      <td>19.2363</td>\n",
       "      <td>2017-12-31</td>\n",
       "      <td>309.696</td>\n",
       "      <td>67.531</td>\n",
       "      <td>5915.351</td>\n",
       "      <td>2.670</td>\n",
       "      <td>343.419</td>\n",
       "      <td>2.6000</td>\n",
       "      <td>718.537</td>\n",
       "      <td>2.6000</td>\n",
       "      <td>NaN</td>\n",
       "      <td>51.447</td>\n",
       "    </tr>\n",
       "    <tr>\n",
       "      <th>2</th>\n",
       "      <td>WHQNFK-S-US</td>\n",
       "      <td>AAR CORP</td>\n",
       "      <td>1612.2800</td>\n",
       "      <td>3.601036</td>\n",
       "      <td>1.75654</td>\n",
       "      <td>107.0590</td>\n",
       "      <td>2017-05-31</td>\n",
       "      <td>1767.600</td>\n",
       "      <td>56.000</td>\n",
       "      <td>1552.500</td>\n",
       "      <td>37.200</td>\n",
       "      <td>157.300</td>\n",
       "      <td>1.6400</td>\n",
       "      <td>914.200</td>\n",
       "      <td>1.6519</td>\n",
       "      <td>1493.700</td>\n",
       "      <td>33.600</td>\n",
       "    </tr>\n",
       "    <tr>\n",
       "      <th>3</th>\n",
       "      <td>RK3780-S-US</td>\n",
       "      <td>AARONS INC</td>\n",
       "      <td>3182.1000</td>\n",
       "      <td>32.947366</td>\n",
       "      <td>1.82330</td>\n",
       "      <td>11.2745</td>\n",
       "      <td>2017-12-31</td>\n",
       "      <td>3383.708</td>\n",
       "      <td>292.536</td>\n",
       "      <td>2692.264</td>\n",
       "      <td>211.003</td>\n",
       "      <td>368.798</td>\n",
       "      <td>4.0600</td>\n",
       "      <td>1728.004</td>\n",
       "      <td>4.1300</td>\n",
       "      <td>1790.137</td>\n",
       "      <td>57.973</td>\n",
       "    </tr>\n",
       "    <tr>\n",
       "      <th>4</th>\n",
       "      <td>Q1KJQ2-S-US</td>\n",
       "      <td>ABBOTT LABORATORIES</td>\n",
       "      <td>114361.0000</td>\n",
       "      <td>2.741859</td>\n",
       "      <td>3.64217</td>\n",
       "      <td>128.9640</td>\n",
       "      <td>2017-12-31</td>\n",
       "      <td>27390.000</td>\n",
       "      <td>468.000</td>\n",
       "      <td>76250.000</td>\n",
       "      <td>2006.000</td>\n",
       "      <td>27924.000</td>\n",
       "      <td>0.2700</td>\n",
       "      <td>31098.000</td>\n",
       "      <td>0.2690</td>\n",
       "      <td>14266.000</td>\n",
       "      <td>1135.000</td>\n",
       "    </tr>\n",
       "  </tbody>\n",
       "</table>\n",
       "</div>"
      ],
      "text/plain": [
       "  FS_PERM_SEC_ID                       ENTITY_NAME  FF_MKT_VAL_CURR  \\\n",
       "0    HKS27K-S-US  CHOICEONE FINANCIAL SERVICES INC          94.1031   \n",
       "1    T1N9J9-S-US                   1ST SOURCE CORP        1458.4500   \n",
       "2    WHQNFK-S-US                          AAR CORP        1612.2800   \n",
       "3    RK3780-S-US                        AARONS INC        3182.1000   \n",
       "4    Q1KJQ2-S-US               ABBOTT LABORATORIES      114361.0000   \n",
       "\n",
       "   FF_CURR_PS_CF  FF_PBK_SECS_CURR  FF_PE_SECS_CURR       DATE   FF_SALES  \\\n",
       "0       2.589208           1.30403          15.2072 2017-12-31     28.944   \n",
       "1       4.901868           1.97015          19.2363 2017-12-31    309.696   \n",
       "2       3.601036           1.75654         107.0590 2017-05-31   1767.600   \n",
       "3      32.947366           1.82330          11.2745 2017-12-31   3383.708   \n",
       "4       2.741859           3.64217         128.9640 2017-12-31  27390.000   \n",
       "\n",
       "   FF_NET_INCOME  FF_ASSETS  FF_DFD_TAX_ITC    FF_DEBT  FF_EPS_REPORTED  \\\n",
       "0          6.168    646.544             NaN     27.416           1.6952   \n",
       "1         67.531   5915.351           2.670    343.419           2.6000   \n",
       "2         56.000   1552.500          37.200    157.300           1.6400   \n",
       "3        292.536   2692.264         211.003    368.798           4.0600   \n",
       "4        468.000  76250.000        2006.000  27924.000           0.2700   \n",
       "\n",
       "   FF_EQ_TOT  FF_EPS_BASIC    FF_COGS  FF_CAPEX  \n",
       "0     76.550        1.7048        NaN     1.656  \n",
       "1    718.537        2.6000        NaN    51.447  \n",
       "2    914.200        1.6519   1493.700    33.600  \n",
       "3   1728.004        4.1300   1790.137    57.973  \n",
       "4  31098.000        0.2690  14266.000  1135.000  "
      ]
     },
     "execution_count": 4,
     "metadata": {},
     "output_type": "execute_result"
    }
   ],
   "source": [
    "df.head()"
   ]
  },
  {
   "cell_type": "markdown",
   "metadata": {},
   "source": [
    "We will now create a dataframe with all the numerical features and drop observations with missing data. In general -- missing data are handled through imputation techniques. We do not recommend this on this dataset as there are some features (i.e. COGS) that are not applicable to some observations (i.e. service-oriented companies). This data pre-processing is essential in performing PCA."
   ]
  },
  {
   "cell_type": "code",
   "execution_count": 5,
   "metadata": {},
   "outputs": [],
   "source": [
    "#Create a dataframe of all numerical features\n",
    "df1 = df[['FF_MKT_VAL_CURR'  \n",
    "        ,'FF_CURR_PS_CF'     \n",
    "        ,'FF_PBK_SECS_CURR'  \n",
    "        ,'FF_PE_SECS_CURR'   \n",
    "        ,'FF_SALES'          \n",
    "        ,'FF_NET_INCOME'     \n",
    "        ,'FF_ASSETS'         \n",
    "        ,'FF_DFD_TAX_ITC'    \n",
    "        ,'FF_DEBT'           \n",
    "        ,'FF_EPS_REPORTED'   \n",
    "        ,'FF_EQ_TOT'         \n",
    "        ,'FF_EPS_BASIC'      \n",
    "        ,'FF_COGS'           \n",
    "        ,'FF_CAPEX']]\n",
    "\n",
    "#Drop NAs\n",
    "df2 = df1.dropna(axis='rows')"
   ]
  },
  {
   "cell_type": "code",
   "execution_count": 6,
   "metadata": {},
   "outputs": [
    {
     "data": {
      "text/plain": [
       "(2269, 14)"
      ]
     },
     "execution_count": 6,
     "metadata": {},
     "output_type": "execute_result"
    }
   ],
   "source": [
    "#check number of rows and columns\n",
    "df2.shape"
   ]
  },
  {
   "cell_type": "markdown",
   "metadata": {},
   "source": [
    "## Principal Component Analysis"
   ]
  },
  {
   "cell_type": "markdown",
   "metadata": {},
   "source": [
    "We will now perform Principal Component Analysis (PCA). Principal Component Analysis, or PCA, is a dimensionality-reduction method that is often used to reduce the dimensionality of large data sets, by transforming a large set of variables into a smaller one that still contains most of the information in the large set. So to sum up, the idea of PCA is simple — reduce the number of variables of a data set, while preserving as much information as possible"
   ]
  },
  {
   "cell_type": "code",
   "execution_count": 7,
   "metadata": {},
   "outputs": [],
   "source": [
    "#Perform PCA\n",
    "from sklearn.preprocessing import StandardScaler\n",
    "df_scaled = StandardScaler().fit_transform(df2)"
   ]
  },
  {
   "cell_type": "code",
   "execution_count": 8,
   "metadata": {},
   "outputs": [],
   "source": [
    "from sklearn.decomposition import PCA\n",
    "\n",
    "pca = PCA(n_components=14)\n",
    "pca_fit_df = pca.fit(df_scaled)"
   ]
  },
  {
   "cell_type": "code",
   "execution_count": 9,
   "metadata": {},
   "outputs": [
    {
     "data": {
      "text/html": [
       "<style  type=\"text/css\" >\n",
       "</style><table id=\"T_6cc01_\" ><thead>    <tr>        <th class=\"col_heading level0 col0\" ></th>        <th class=\"col_heading level0 col1\" >Num of PCs: 1</th>        <th class=\"col_heading level0 col2\" >Num of PCs: 2</th>        <th class=\"col_heading level0 col3\" >Num of PCs: 3</th>        <th class=\"col_heading level0 col4\" >Num of PCs: 4</th>        <th class=\"col_heading level0 col5\" >Num of PCs: 5</th>        <th class=\"col_heading level0 col6\" >Num of PCs: 6</th>        <th class=\"col_heading level0 col7\" >Num of PCs: 7</th>        <th class=\"col_heading level0 col8\" >Num of PCs: 8</th>        <th class=\"col_heading level0 col9\" >Num of PCs: 9</th>        <th class=\"col_heading level0 col10\" >Num of PCs: 10</th>        <th class=\"col_heading level0 col11\" >Num of PCs: 11</th>        <th class=\"col_heading level0 col12\" >Num of PCs: 12</th>        <th class=\"col_heading level0 col13\" >Num of PCs: 13</th>        <th class=\"col_heading level0 col14\" >Num of PCs: 14</th>    </tr></thead><tbody>\n",
       "                <tr>\n",
       "                                <td id=\"T_6cc01_row0_col0\" class=\"data row0 col0\" >Explained Variance Ratio</td>\n",
       "                        <td id=\"T_6cc01_row0_col1\" class=\"data row0 col1\" >59.4565%</td>\n",
       "                        <td id=\"T_6cc01_row0_col2\" class=\"data row0 col2\" >15.3753%</td>\n",
       "                        <td id=\"T_6cc01_row0_col3\" class=\"data row0 col3\" >8.5177%</td>\n",
       "                        <td id=\"T_6cc01_row0_col4\" class=\"data row0 col4\" >8.3851%</td>\n",
       "                        <td id=\"T_6cc01_row0_col5\" class=\"data row0 col5\" >5.7692%</td>\n",
       "                        <td id=\"T_6cc01_row0_col6\" class=\"data row0 col6\" >1.9114%</td>\n",
       "                        <td id=\"T_6cc01_row0_col7\" class=\"data row0 col7\" >0.4116%</td>\n",
       "                        <td id=\"T_6cc01_row0_col8\" class=\"data row0 col8\" >0.1361%</td>\n",
       "                        <td id=\"T_6cc01_row0_col9\" class=\"data row0 col9\" >0.0268%</td>\n",
       "                        <td id=\"T_6cc01_row0_col10\" class=\"data row0 col10\" >0.0062%</td>\n",
       "                        <td id=\"T_6cc01_row0_col11\" class=\"data row0 col11\" >0.0027%</td>\n",
       "                        <td id=\"T_6cc01_row0_col12\" class=\"data row0 col12\" >0.0010%</td>\n",
       "                        <td id=\"T_6cc01_row0_col13\" class=\"data row0 col13\" >0.0003%</td>\n",
       "                        <td id=\"T_6cc01_row0_col14\" class=\"data row0 col14\" >0.0001%</td>\n",
       "            </tr>\n",
       "            <tr>\n",
       "                                <td id=\"T_6cc01_row1_col0\" class=\"data row1 col0\" >Cumulative Explained Variance Ratio</td>\n",
       "                        <td id=\"T_6cc01_row1_col1\" class=\"data row1 col1\" >59.4565%</td>\n",
       "                        <td id=\"T_6cc01_row1_col2\" class=\"data row1 col2\" >74.8318%</td>\n",
       "                        <td id=\"T_6cc01_row1_col3\" class=\"data row1 col3\" >83.3495%</td>\n",
       "                        <td id=\"T_6cc01_row1_col4\" class=\"data row1 col4\" >91.7346%</td>\n",
       "                        <td id=\"T_6cc01_row1_col5\" class=\"data row1 col5\" >97.5038%</td>\n",
       "                        <td id=\"T_6cc01_row1_col6\" class=\"data row1 col6\" >99.4153%</td>\n",
       "                        <td id=\"T_6cc01_row1_col7\" class=\"data row1 col7\" >99.8269%</td>\n",
       "                        <td id=\"T_6cc01_row1_col8\" class=\"data row1 col8\" >99.9629%</td>\n",
       "                        <td id=\"T_6cc01_row1_col9\" class=\"data row1 col9\" >99.9897%</td>\n",
       "                        <td id=\"T_6cc01_row1_col10\" class=\"data row1 col10\" >99.9959%</td>\n",
       "                        <td id=\"T_6cc01_row1_col11\" class=\"data row1 col11\" >99.9986%</td>\n",
       "                        <td id=\"T_6cc01_row1_col12\" class=\"data row1 col12\" >99.9996%</td>\n",
       "                        <td id=\"T_6cc01_row1_col13\" class=\"data row1 col13\" >99.9999%</td>\n",
       "                        <td id=\"T_6cc01_row1_col14\" class=\"data row1 col14\" >100.0000%</td>\n",
       "            </tr>\n",
       "    </tbody></table>"
      ],
      "text/plain": [
       "<pandas.io.formats.style.Styler at 0x7f9f4b266c90>"
      ]
     },
     "execution_count": 9,
     "metadata": {},
     "output_type": "execute_result"
    }
   ],
   "source": [
    "exp_var_ratio         = pca_fit_df.explained_variance_ratio_\n",
    "cum_sum_exp_var_ratio = np.cumsum(pca_fit_df.explained_variance_ratio_) \n",
    "\n",
    "var_data              = pd.DataFrame(data=[exp_var_ratio, cum_sum_exp_var_ratio], \n",
    "                                     columns=['Num of PCs: 1'\n",
    "                                              , 'Num of PCs: 2'\n",
    "                                              , 'Num of PCs: 3'\n",
    "                                              , 'Num of PCs: 4'\n",
    "                                              , 'Num of PCs: 5'\n",
    "                                              , 'Num of PCs: 6'\n",
    "                                              , 'Num of PCs: 7'\n",
    "                                              , 'Num of PCs: 8'\n",
    "                                              , 'Num of PCs: 9'\n",
    "                                              , 'Num of PCs: 10'\n",
    "                                              , 'Num of PCs: 11'\n",
    "                                              , 'Num of PCs: 12'\n",
    "                                              , 'Num of PCs: 13'\n",
    "                                              , 'Num of PCs: 14'\n",
    "                                             ])\n",
    "var_data.round(6)\n",
    "row_names      = pd.DataFrame(['Explained Variance Ratio', 'Cumulative Explained Variance Ratio'],columns=[''])\n",
    "final_expl_var = pd.concat([row_names, var_data],axis=1)\n",
    "final_expl_var.style.format({'Num of PCs: 1': '{:.4%}'\n",
    "                       , 'Num of PCs: 2': '{:.4%}'\n",
    "                       , 'Num of PCs: 3': '{:.4%}'\n",
    "                       , 'Num of PCs: 4': '{:.4%}'\n",
    "                       , 'Num of PCs: 5': '{:.4%}'\n",
    "                       , 'Num of PCs: 6': '{:.4%}'\n",
    "                       , 'Num of PCs: 7': '{:.4%}'\n",
    "                       , 'Num of PCs: 8': '{:.4%}'\n",
    "                       , 'Num of PCs: 9': '{:.4%}'\n",
    "                       , 'Num of PCs: 10': '{:.4%}'\n",
    "                       , 'Num of PCs: 11': '{:.4%}'\n",
    "                       , 'Num of PCs: 12': '{:.4%}'\n",
    "                       , 'Num of PCs: 13': '{:.4%}'\n",
    "                       , 'Num of PCs: 14': '{:.4%}'}).hide_index()"
   ]
  },
  {
   "cell_type": "markdown",
   "metadata": {},
   "source": [
    "From the results above, we can see that for 5 principal components, the explained variance is already 97.5%. As such, we will use 5 principal components in identifying the features of the dataset. The script below will produce the eigenvectors for each principal component and feature."
   ]
  },
  {
   "cell_type": "code",
   "execution_count": 10,
   "metadata": {},
   "outputs": [],
   "source": [
    "variable_names      = pd.DataFrame(df1.columns, columns=['Variable Name'])\n",
    "column_names        = ['PC1', 'PC2' ,'PC3', 'PC4', 'PC5', 'PC6', 'PC7'\n",
    "                        ,'PC8', 'PC9' ,'PC10', 'PC11', 'PC12', 'PC13', 'PC14']\n",
    "\n",
    "eigenvectors        = pca_fit_df.components_\n",
    "eigenvectors_tbl_0  = pd.DataFrame(data=eigenvectors, columns=column_names) \n",
    "eigenvectors_tbl_1  = pd.concat([variable_names, eigenvectors_tbl_0], axis=1)\n",
    "eigenvectors_tbl_2  = eigenvectors_tbl_1[['Variable Name', 'PC1', 'PC2', 'PC3', 'PC4', 'PC5']]"
   ]
  },
  {
   "cell_type": "code",
   "execution_count": 11,
   "metadata": {},
   "outputs": [
    {
     "data": {
      "text/html": [
       "<style  type=\"text/css\" >\n",
       "#T_3b0d3_row0_col1{\n",
       "            background-color:  #3e8ec4;\n",
       "            color:  #000000;\n",
       "        }#T_3b0d3_row0_col2{\n",
       "            background-color:  #85bcdc;\n",
       "            color:  #000000;\n",
       "        }#T_3b0d3_row0_col3{\n",
       "            background-color:  #d3e3f3;\n",
       "            color:  #000000;\n",
       "        }#T_3b0d3_row0_col4,#T_3b0d3_row5_col4{\n",
       "            background-color:  #6aaed6;\n",
       "            color:  #000000;\n",
       "        }#T_3b0d3_row0_col5{\n",
       "            background-color:  #3f8fc5;\n",
       "            color:  #000000;\n",
       "        }#T_3b0d3_row1_col1{\n",
       "            background-color:  #d0e2f2;\n",
       "            color:  #000000;\n",
       "        }#T_3b0d3_row1_col2{\n",
       "            background-color:  #4292c6;\n",
       "            color:  #000000;\n",
       "        }#T_3b0d3_row1_col3{\n",
       "            background-color:  #d3e4f3;\n",
       "            color:  #000000;\n",
       "        }#T_3b0d3_row1_col4{\n",
       "            background-color:  #6dafd7;\n",
       "            color:  #000000;\n",
       "        }#T_3b0d3_row1_col5{\n",
       "            background-color:  #b2d2e8;\n",
       "            color:  #000000;\n",
       "        }#T_3b0d3_row2_col1{\n",
       "            background-color:  #b5d4e9;\n",
       "            color:  #000000;\n",
       "        }#T_3b0d3_row2_col2{\n",
       "            background-color:  #caddf0;\n",
       "            color:  #000000;\n",
       "        }#T_3b0d3_row2_col3{\n",
       "            background-color:  #083573;\n",
       "            color:  #f1f1f1;\n",
       "        }#T_3b0d3_row2_col4,#T_3b0d3_row4_col3,#T_3b0d3_row7_col2,#T_3b0d3_row8_col1,#T_3b0d3_row13_col5{\n",
       "            background-color:  #08306b;\n",
       "            color:  #f1f1f1;\n",
       "        }#T_3b0d3_row2_col5{\n",
       "            background-color:  #9cc9e1;\n",
       "            color:  #000000;\n",
       "        }#T_3b0d3_row3_col1{\n",
       "            background-color:  #deebf7;\n",
       "            color:  #000000;\n",
       "        }#T_3b0d3_row3_col2{\n",
       "            background-color:  #75b4d8;\n",
       "            color:  #000000;\n",
       "        }#T_3b0d3_row3_col3,#T_3b0d3_row4_col4,#T_3b0d3_row7_col5,#T_3b0d3_row8_col2,#T_3b0d3_row10_col1{\n",
       "            background-color:  #f7fbff;\n",
       "            color:  #000000;\n",
       "        }#T_3b0d3_row3_col4{\n",
       "            background-color:  #94c4df;\n",
       "            color:  #000000;\n",
       "        }#T_3b0d3_row3_col5{\n",
       "            background-color:  #56a0ce;\n",
       "            color:  #000000;\n",
       "        }#T_3b0d3_row4_col1{\n",
       "            background-color:  #a5cde3;\n",
       "            color:  #000000;\n",
       "        }#T_3b0d3_row4_col2,#T_3b0d3_row13_col2{\n",
       "            background-color:  #dae8f6;\n",
       "            color:  #000000;\n",
       "        }#T_3b0d3_row4_col5{\n",
       "            background-color:  #aed1e7;\n",
       "            color:  #000000;\n",
       "        }#T_3b0d3_row5_col1{\n",
       "            background-color:  #cadef0;\n",
       "            color:  #000000;\n",
       "        }#T_3b0d3_row5_col2{\n",
       "            background-color:  #4e9acb;\n",
       "            color:  #000000;\n",
       "        }#T_3b0d3_row5_col3,#T_3b0d3_row6_col3,#T_3b0d3_row9_col2,#T_3b0d3_row10_col3,#T_3b0d3_row12_col3,#T_3b0d3_row13_col3{\n",
       "            background-color:  #d1e2f3;\n",
       "            color:  #000000;\n",
       "        }#T_3b0d3_row5_col5{\n",
       "            background-color:  #5ba3d0;\n",
       "            color:  #000000;\n",
       "        }#T_3b0d3_row6_col1{\n",
       "            background-color:  #9fcae1;\n",
       "            color:  #000000;\n",
       "        }#T_3b0d3_row6_col2,#T_3b0d3_row9_col1{\n",
       "            background-color:  #bed8ec;\n",
       "            color:  #000000;\n",
       "        }#T_3b0d3_row6_col4,#T_3b0d3_row7_col4,#T_3b0d3_row8_col4,#T_3b0d3_row9_col4,#T_3b0d3_row10_col4,#T_3b0d3_row11_col4,#T_3b0d3_row12_col4,#T_3b0d3_row13_col4{\n",
       "            background-color:  #69add5;\n",
       "            color:  #000000;\n",
       "        }#T_3b0d3_row6_col5{\n",
       "            background-color:  #95c5df;\n",
       "            color:  #000000;\n",
       "        }#T_3b0d3_row7_col1{\n",
       "            background-color:  #4493c7;\n",
       "            color:  #000000;\n",
       "        }#T_3b0d3_row7_col3,#T_3b0d3_row8_col3,#T_3b0d3_row9_col3,#T_3b0d3_row11_col3{\n",
       "            background-color:  #d2e3f3;\n",
       "            color:  #000000;\n",
       "        }#T_3b0d3_row8_col5{\n",
       "            background-color:  #66abd4;\n",
       "            color:  #000000;\n",
       "        }#T_3b0d3_row9_col5{\n",
       "            background-color:  #549fcd;\n",
       "            color:  #000000;\n",
       "        }#T_3b0d3_row10_col2{\n",
       "            background-color:  #d9e7f5;\n",
       "            color:  #000000;\n",
       "        }#T_3b0d3_row10_col5{\n",
       "            background-color:  #91c3de;\n",
       "            color:  #000000;\n",
       "        }#T_3b0d3_row11_col1{\n",
       "            background-color:  #8cc0dd;\n",
       "            color:  #000000;\n",
       "        }#T_3b0d3_row11_col2{\n",
       "            background-color:  #d8e7f5;\n",
       "            color:  #000000;\n",
       "        }#T_3b0d3_row11_col5{\n",
       "            background-color:  #7cb7da;\n",
       "            color:  #000000;\n",
       "        }#T_3b0d3_row12_col1,#T_3b0d3_row13_col1{\n",
       "            background-color:  #a4cce3;\n",
       "            color:  #000000;\n",
       "        }#T_3b0d3_row12_col2{\n",
       "            background-color:  #dbe9f6;\n",
       "            color:  #000000;\n",
       "        }#T_3b0d3_row12_col5{\n",
       "            background-color:  #abd0e6;\n",
       "            color:  #000000;\n",
       "        }</style><table id=\"T_3b0d3_\" ><thead>    <tr>        <th class=\"col_heading level0 col0\" >Variable Name</th>        <th class=\"col_heading level0 col1\" >PC1</th>        <th class=\"col_heading level0 col2\" >PC2</th>        <th class=\"col_heading level0 col3\" >PC3</th>        <th class=\"col_heading level0 col4\" >PC4</th>        <th class=\"col_heading level0 col5\" >PC5</th>    </tr></thead><tbody>\n",
       "                <tr>\n",
       "                                <td id=\"T_3b0d3_row0_col0\" class=\"data row0 col0\" >FF_MKT_VAL_CURR</td>\n",
       "                        <td id=\"T_3b0d3_row0_col1\" class=\"data row0 col1\" >0.318291</td>\n",
       "                        <td id=\"T_3b0d3_row0_col2\" class=\"data row0 col2\" >0.245706</td>\n",
       "                        <td id=\"T_3b0d3_row0_col3\" class=\"data row0 col3\" >-0.004324</td>\n",
       "                        <td id=\"T_3b0d3_row0_col4\" class=\"data row0 col4\" >-0.004186</td>\n",
       "                        <td id=\"T_3b0d3_row0_col5\" class=\"data row0 col5\" >0.328758</td>\n",
       "            </tr>\n",
       "            <tr>\n",
       "                                <td id=\"T_3b0d3_row1_col0\" class=\"data row1 col0\" >FF_CURR_PS_CF</td>\n",
       "                        <td id=\"T_3b0d3_row1_col1\" class=\"data row1 col1\" >-0.176680</td>\n",
       "                        <td id=\"T_3b0d3_row1_col2\" class=\"data row1 col2\" >0.403517</td>\n",
       "                        <td id=\"T_3b0d3_row1_col3\" class=\"data row1 col3\" >-0.008360</td>\n",
       "                        <td id=\"T_3b0d3_row1_col4\" class=\"data row1 col4\" >-0.018506</td>\n",
       "                        <td id=\"T_3b0d3_row1_col5\" class=\"data row1 col5\" >-0.006609</td>\n",
       "            </tr>\n",
       "            <tr>\n",
       "                                <td id=\"T_3b0d3_row2_col0\" class=\"data row2 col0\" >FF_PBK_SECS_CURR</td>\n",
       "                        <td id=\"T_3b0d3_row2_col1\" class=\"data row2 col1\" >-0.058155</td>\n",
       "                        <td id=\"T_3b0d3_row2_col2\" class=\"data row2 col2\" >0.073509</td>\n",
       "                        <td id=\"T_3b0d3_row2_col3\" class=\"data row2 col3\" >0.687287</td>\n",
       "                        <td id=\"T_3b0d3_row2_col4\" class=\"data row2 col4\" >0.691409</td>\n",
       "                        <td id=\"T_3b0d3_row2_col5\" class=\"data row2 col5\" >0.061099</td>\n",
       "            </tr>\n",
       "            <tr>\n",
       "                                <td id=\"T_3b0d3_row3_col0\" class=\"data row3 col0\" >FF_PE_SECS_CURR</td>\n",
       "                        <td id=\"T_3b0d3_row3_col1\" class=\"data row3 col1\" >-0.254912</td>\n",
       "                        <td id=\"T_3b0d3_row3_col2\" class=\"data row3 col2\" >0.280283</td>\n",
       "                        <td id=\"T_3b0d3_row3_col3\" class=\"data row3 col3\" >-0.167917</td>\n",
       "                        <td id=\"T_3b0d3_row3_col4\" class=\"data row3 col4\" >-0.145749</td>\n",
       "                        <td id=\"T_3b0d3_row3_col5\" class=\"data row3 col5\" >0.257282</td>\n",
       "            </tr>\n",
       "            <tr>\n",
       "                                <td id=\"T_3b0d3_row4_col0\" class=\"data row4 col0\" >FF_SALES</td>\n",
       "                        <td id=\"T_3b0d3_row4_col1\" class=\"data row4 col1\" >0.000023</td>\n",
       "                        <td id=\"T_3b0d3_row4_col2\" class=\"data row4 col2\" >0.002046</td>\n",
       "                        <td id=\"T_3b0d3_row4_col3\" class=\"data row4 col3\" >0.706639</td>\n",
       "                        <td id=\"T_3b0d3_row4_col4\" class=\"data row4 col4\" >-0.707345</td>\n",
       "                        <td id=\"T_3b0d3_row4_col5\" class=\"data row4 col5\" >0.003735</td>\n",
       "            </tr>\n",
       "            <tr>\n",
       "                                <td id=\"T_3b0d3_row5_col0\" class=\"data row5 col0\" >FF_NET_INCOME</td>\n",
       "                        <td id=\"T_3b0d3_row5_col1\" class=\"data row5 col1\" >-0.143287</td>\n",
       "                        <td id=\"T_3b0d3_row5_col2\" class=\"data row5 col2\" >0.374764</td>\n",
       "                        <td id=\"T_3b0d3_row5_col3\" class=\"data row5 col3\" >0.000797</td>\n",
       "                        <td id=\"T_3b0d3_row5_col4\" class=\"data row5 col4\" >-0.003192</td>\n",
       "                        <td id=\"T_3b0d3_row5_col5\" class=\"data row5 col5\" >0.239493</td>\n",
       "            </tr>\n",
       "            <tr>\n",
       "                                <td id=\"T_3b0d3_row6_col0\" class=\"data row6 col0\" >FF_ASSETS</td>\n",
       "                        <td id=\"T_3b0d3_row6_col1\" class=\"data row6 col1\" >0.020434</td>\n",
       "                        <td id=\"T_3b0d3_row6_col2\" class=\"data row6 col2\" >0.110666</td>\n",
       "                        <td id=\"T_3b0d3_row6_col3\" class=\"data row6 col3\" >0.000363</td>\n",
       "                        <td id=\"T_3b0d3_row6_col4\" class=\"data row6 col4\" >0.000913</td>\n",
       "                        <td id=\"T_3b0d3_row6_col5\" class=\"data row6 col5\" >0.077742</td>\n",
       "            </tr>\n",
       "            <tr>\n",
       "                                <td id=\"T_3b0d3_row7_col0\" class=\"data row7 col0\" >FF_DFD_TAX_ITC</td>\n",
       "                        <td id=\"T_3b0d3_row7_col1\" class=\"data row7 col1\" >0.296193</td>\n",
       "                        <td id=\"T_3b0d3_row7_col2\" class=\"data row7 col2\" >0.723382</td>\n",
       "                        <td id=\"T_3b0d3_row7_col3\" class=\"data row7 col3\" >-0.001492</td>\n",
       "                        <td id=\"T_3b0d3_row7_col4\" class=\"data row7 col4\" >0.001500</td>\n",
       "                        <td id=\"T_3b0d3_row7_col5\" class=\"data row7 col5\" >-0.336318</td>\n",
       "            </tr>\n",
       "            <tr>\n",
       "                                <td id=\"T_3b0d3_row8_col0\" class=\"data row8 col0\" >FF_DEBT</td>\n",
       "                        <td id=\"T_3b0d3_row8_col1\" class=\"data row8 col1\" >0.720574</td>\n",
       "                        <td id=\"T_3b0d3_row8_col2\" class=\"data row8 col2\" >-0.122641</td>\n",
       "                        <td id=\"T_3b0d3_row8_col3\" class=\"data row8 col3\" >-0.002558</td>\n",
       "                        <td id=\"T_3b0d3_row8_col4\" class=\"data row8 col4\" >0.000448</td>\n",
       "                        <td id=\"T_3b0d3_row8_col5\" class=\"data row8 col5\" >0.200999</td>\n",
       "            </tr>\n",
       "            <tr>\n",
       "                                <td id=\"T_3b0d3_row9_col0\" class=\"data row9 col0\" >FF_EPS_REPORTED</td>\n",
       "                        <td id=\"T_3b0d3_row9_col1\" class=\"data row9 col1\" >-0.090927</td>\n",
       "                        <td id=\"T_3b0d3_row9_col2\" class=\"data row9 col2\" >0.040333</td>\n",
       "                        <td id=\"T_3b0d3_row9_col3\" class=\"data row9 col3\" >-0.001037</td>\n",
       "                        <td id=\"T_3b0d3_row9_col4\" class=\"data row9 col4\" >0.000802</td>\n",
       "                        <td id=\"T_3b0d3_row9_col5\" class=\"data row9 col5\" >0.261174</td>\n",
       "            </tr>\n",
       "            <tr>\n",
       "                                <td id=\"T_3b0d3_row10_col0\" class=\"data row10 col0\" >FF_EQ_TOT</td>\n",
       "                        <td id=\"T_3b0d3_row10_col1\" class=\"data row10 col1\" >-0.397023</td>\n",
       "                        <td id=\"T_3b0d3_row10_col2\" class=\"data row10 col2\" >0.007020</td>\n",
       "                        <td id=\"T_3b0d3_row10_col3\" class=\"data row10 col3\" >0.001503</td>\n",
       "                        <td id=\"T_3b0d3_row10_col4\" class=\"data row10 col4\" >0.000114</td>\n",
       "                        <td id=\"T_3b0d3_row10_col5\" class=\"data row10 col5\" >0.091924</td>\n",
       "            </tr>\n",
       "            <tr>\n",
       "                                <td id=\"T_3b0d3_row11_col0\" class=\"data row11 col0\" >FF_EPS_BASIC</td>\n",
       "                        <td id=\"T_3b0d3_row11_col1\" class=\"data row11 col1\" >0.072850</td>\n",
       "                        <td id=\"T_3b0d3_row11_col2\" class=\"data row11 col2\" >0.011212</td>\n",
       "                        <td id=\"T_3b0d3_row11_col3\" class=\"data row11 col3\" >-0.000777</td>\n",
       "                        <td id=\"T_3b0d3_row11_col4\" class=\"data row11 col4\" >0.000131</td>\n",
       "                        <td id=\"T_3b0d3_row11_col5\" class=\"data row11 col5\" >0.146344</td>\n",
       "            </tr>\n",
       "            <tr>\n",
       "                                <td id=\"T_3b0d3_row12_col0\" class=\"data row12 col0\" >FF_COGS</td>\n",
       "                        <td id=\"T_3b0d3_row12_col1\" class=\"data row12 col1\" >0.001924</td>\n",
       "                        <td id=\"T_3b0d3_row12_col2\" class=\"data row12 col2\" >-0.002989</td>\n",
       "                        <td id=\"T_3b0d3_row12_col3\" class=\"data row12 col3\" >-0.000090</td>\n",
       "                        <td id=\"T_3b0d3_row12_col4\" class=\"data row12 col4\" >0.000085</td>\n",
       "                        <td id=\"T_3b0d3_row12_col5\" class=\"data row12 col5\" >0.014953</td>\n",
       "            </tr>\n",
       "            <tr>\n",
       "                                <td id=\"T_3b0d3_row13_col0\" class=\"data row13 col0\" >FF_CAPEX</td>\n",
       "                        <td id=\"T_3b0d3_row13_col1\" class=\"data row13 col1\" >0.000549</td>\n",
       "                        <td id=\"T_3b0d3_row13_col2\" class=\"data row13 col2\" >0.002926</td>\n",
       "                        <td id=\"T_3b0d3_row13_col3\" class=\"data row13 col3\" >-0.000031</td>\n",
       "                        <td id=\"T_3b0d3_row13_col4\" class=\"data row13 col4\" >0.000024</td>\n",
       "                        <td id=\"T_3b0d3_row13_col5\" class=\"data row13 col5\" >0.711843</td>\n",
       "            </tr>\n",
       "    </tbody></table>"
      ],
      "text/plain": [
       "<pandas.io.formats.style.Styler at 0x7f9f4cac0310>"
      ]
     },
     "execution_count": 11,
     "metadata": {},
     "output_type": "execute_result"
    }
   ],
   "source": [
    "eigenvectors_tbl_2.style.background_gradient('Blues').hide_index()"
   ]
  },
  {
   "cell_type": "markdown",
   "metadata": {},
   "source": [
    "From the table above, for PC1 -- the highest correlation is FF_DEBT. For PC2 -- the highest correlation is FF_DFD_TAX_ITC. PC3 and PC4 have both highest correlation for FF_PBK_SECS_CURR and FF_SALES. Finally, PC5 has the highest correlation for FF_CAPEX. These are the variables that we will use to perform kmeans clustering on the data."
   ]
  },
  {
   "cell_type": "markdown",
   "metadata": {},
   "source": [
    "## K-means clustering"
   ]
  },
  {
   "cell_type": "markdown",
   "metadata": {},
   "source": [
    "K-means is a clustering technique which is often used in segmenting data. Typical K-means algorithm works by first, defining K or the number of clusters. Based on the value of K, centroids will be calculated where each cluster is concentrated. Each observation will then be allocated to a cluster with the minimum distrance to a centroid."
   ]
  },
  {
   "cell_type": "markdown",
   "metadata": {},
   "source": [
    "Data Pre-processing"
   ]
  },
  {
   "cell_type": "code",
   "execution_count": 12,
   "metadata": {},
   "outputs": [
    {
     "data": {
      "text/plain": [
       "(9745, 6)"
      ]
     },
     "execution_count": 12,
     "metadata": {},
     "output_type": "execute_result"
    }
   ],
   "source": [
    "df_for_kmeans1 = df[['ENTITY_NAME'\n",
    "                   ,'FF_DEBT'\n",
    "                   , 'FF_DFD_TAX_ITC'\n",
    "                   , 'FF_PBK_SECS_CURR'\n",
    "                   , 'FF_SALES'\n",
    "                   , 'FF_CAPEX']]\n",
    "df_for_kmeans1.shape"
   ]
  },
  {
   "cell_type": "code",
   "execution_count": 13,
   "metadata": {},
   "outputs": [
    {
     "data": {
      "text/plain": [
       "(4035, 6)"
      ]
     },
     "execution_count": 13,
     "metadata": {},
     "output_type": "execute_result"
    }
   ],
   "source": [
    "df_for_kmeans2 = df_for_kmeans1.dropna(axis='rows')\n",
    "df_for_kmeans2.shape"
   ]
  },
  {
   "cell_type": "code",
   "execution_count": 14,
   "metadata": {},
   "outputs": [],
   "source": [
    "df_for_kmeans3 = df_for_kmeans2[['FF_DEBT'\n",
    "                   , 'FF_DFD_TAX_ITC'\n",
    "                   , 'FF_PBK_SECS_CURR'\n",
    "                   , 'FF_SALES'\n",
    "                   , 'FF_CAPEX']]"
   ]
  },
  {
   "cell_type": "markdown",
   "metadata": {},
   "source": [
    "Perform normalization of the data."
   ]
  },
  {
   "cell_type": "code",
   "execution_count": 15,
   "metadata": {},
   "outputs": [],
   "source": [
    "df_for_kmeans4 = df_for_kmeans3.replace(0,1)\n",
    "\n",
    "df_for_kmeans4['ln_FFT_DEBT']         = np.log(df_for_kmeans4['FF_DEBT'])\n",
    "df_for_kmeans4['ln_FF_DFD_TAX_ITC']   = np.log(df_for_kmeans4['FF_DFD_TAX_ITC'])\n",
    "df_for_kmeans4['ln_FF_PBK_SECS_CURR'] = np.log(df_for_kmeans4['FF_PBK_SECS_CURR'])\n",
    "df_for_kmeans4['ln_FF_SALES']         = np.log(df_for_kmeans4['FF_SALES'])\n",
    "df_for_kmeans4['ln_FF_CAPEX']         = np.log(df_for_kmeans4['FF_CAPEX'])\n",
    "\n",
    "df_for_kmeans_t = df_for_kmeans4[['ln_FFT_DEBT'\n",
    "                                  , 'ln_FF_DFD_TAX_ITC'\n",
    "                                  , 'ln_FF_PBK_SECS_CURR'\n",
    "                                  , 'ln_FF_SALES'\n",
    "                                  , 'ln_FF_CAPEX']]"
   ]
  },
  {
   "cell_type": "code",
   "execution_count": 16,
   "metadata": {},
   "outputs": [],
   "source": [
    "df_for_kmeans_final = df_for_kmeans_t.fillna(0)"
   ]
  },
  {
   "cell_type": "markdown",
   "metadata": {},
   "source": [
    "Final data check before performing K-means clustering."
   ]
  },
  {
   "cell_type": "code",
   "execution_count": 17,
   "metadata": {},
   "outputs": [
    {
     "data": {
      "text/html": [
       "<div>\n",
       "<style scoped>\n",
       "    .dataframe tbody tr th:only-of-type {\n",
       "        vertical-align: middle;\n",
       "    }\n",
       "\n",
       "    .dataframe tbody tr th {\n",
       "        vertical-align: top;\n",
       "    }\n",
       "\n",
       "    .dataframe thead th {\n",
       "        text-align: right;\n",
       "    }\n",
       "</style>\n",
       "<table border=\"1\" class=\"dataframe\">\n",
       "  <thead>\n",
       "    <tr style=\"text-align: right;\">\n",
       "      <th></th>\n",
       "      <th>ln_FFT_DEBT</th>\n",
       "      <th>ln_FF_DFD_TAX_ITC</th>\n",
       "      <th>ln_FF_PBK_SECS_CURR</th>\n",
       "      <th>ln_FF_SALES</th>\n",
       "      <th>ln_FF_CAPEX</th>\n",
       "    </tr>\n",
       "  </thead>\n",
       "  <tbody>\n",
       "    <tr>\n",
       "      <th>count</th>\n",
       "      <td>4035.000000</td>\n",
       "      <td>4035.000000</td>\n",
       "      <td>4035.000000</td>\n",
       "      <td>4035.000000</td>\n",
       "      <td>4035.000000</td>\n",
       "    </tr>\n",
       "    <tr>\n",
       "      <th>mean</th>\n",
       "      <td>4.579393</td>\n",
       "      <td>1.667109</td>\n",
       "      <td>0.767712</td>\n",
       "      <td>5.853100</td>\n",
       "      <td>2.686338</td>\n",
       "    </tr>\n",
       "    <tr>\n",
       "      <th>std</th>\n",
       "      <td>3.317775</td>\n",
       "      <td>2.629915</td>\n",
       "      <td>0.993842</td>\n",
       "      <td>2.758890</td>\n",
       "      <td>2.884683</td>\n",
       "    </tr>\n",
       "    <tr>\n",
       "      <th>min</th>\n",
       "      <td>-9.845219</td>\n",
       "      <td>-6.907755</td>\n",
       "      <td>-7.676525</td>\n",
       "      <td>-4.927858</td>\n",
       "      <td>-8.274247</td>\n",
       "    </tr>\n",
       "    <tr>\n",
       "      <th>25%</th>\n",
       "      <td>1.846044</td>\n",
       "      <td>0.000000</td>\n",
       "      <td>0.184565</td>\n",
       "      <td>4.084326</td>\n",
       "      <td>0.536567</td>\n",
       "    </tr>\n",
       "    <tr>\n",
       "      <th>50%</th>\n",
       "      <td>5.034658</td>\n",
       "      <td>0.000000</td>\n",
       "      <td>0.644550</td>\n",
       "      <td>6.110753</td>\n",
       "      <td>2.809149</td>\n",
       "    </tr>\n",
       "    <tr>\n",
       "      <th>75%</th>\n",
       "      <td>7.076882</td>\n",
       "      <td>3.515537</td>\n",
       "      <td>1.287551</td>\n",
       "      <td>7.693022</td>\n",
       "      <td>4.653960</td>\n",
       "    </tr>\n",
       "    <tr>\n",
       "      <th>max</th>\n",
       "      <td>17.423757</td>\n",
       "      <td>14.187593</td>\n",
       "      <td>6.684612</td>\n",
       "      <td>17.848738</td>\n",
       "      <td>16.234192</td>\n",
       "    </tr>\n",
       "  </tbody>\n",
       "</table>\n",
       "</div>"
      ],
      "text/plain": [
       "       ln_FFT_DEBT  ln_FF_DFD_TAX_ITC  ln_FF_PBK_SECS_CURR  ln_FF_SALES  \\\n",
       "count  4035.000000        4035.000000          4035.000000  4035.000000   \n",
       "mean      4.579393           1.667109             0.767712     5.853100   \n",
       "std       3.317775           2.629915             0.993842     2.758890   \n",
       "min      -9.845219          -6.907755            -7.676525    -4.927858   \n",
       "25%       1.846044           0.000000             0.184565     4.084326   \n",
       "50%       5.034658           0.000000             0.644550     6.110753   \n",
       "75%       7.076882           3.515537             1.287551     7.693022   \n",
       "max      17.423757          14.187593             6.684612    17.848738   \n",
       "\n",
       "       ln_FF_CAPEX  \n",
       "count  4035.000000  \n",
       "mean      2.686338  \n",
       "std       2.884683  \n",
       "min      -8.274247  \n",
       "25%       0.536567  \n",
       "50%       2.809149  \n",
       "75%       4.653960  \n",
       "max      16.234192  "
      ]
     },
     "execution_count": 17,
     "metadata": {},
     "output_type": "execute_result"
    }
   ],
   "source": [
    "df_for_kmeans_final.describe()"
   ]
  },
  {
   "cell_type": "markdown",
   "metadata": {},
   "source": [
    "Perform K-means clustering."
   ]
  },
  {
   "cell_type": "code",
   "execution_count": 18,
   "metadata": {},
   "outputs": [],
   "source": [
    "from sklearn.cluster import KMeans\n",
    "kmeans_algo = KMeans(n_clusters=4, random_state=3141593).fit(df_for_kmeans_final)"
   ]
  },
  {
   "cell_type": "markdown",
   "metadata": {},
   "source": [
    "Output of the four centroids."
   ]
  },
  {
   "cell_type": "code",
   "execution_count": 19,
   "metadata": {},
   "outputs": [
    {
     "data": {
      "text/plain": [
       "array([[ 8.38721977,  6.01259149,  0.88377271,  8.88598171,  6.15481648],\n",
       "       [ 3.13608307,  0.66834811,  0.72243815,  5.21876095,  1.79400055],\n",
       "       [ 6.73111264,  1.47544047,  0.89273969,  7.41720981,  4.07354878],\n",
       "       [ 0.54771909, -0.19229002,  0.56351651,  2.08498613, -0.81252519]])"
      ]
     },
     "execution_count": 19,
     "metadata": {},
     "output_type": "execute_result"
    }
   ],
   "source": [
    "kmeans_algo.cluster_centers_"
   ]
  },
  {
   "cell_type": "markdown",
   "metadata": {},
   "source": [
    "Algorithm parameters."
   ]
  },
  {
   "cell_type": "code",
   "execution_count": 20,
   "metadata": {},
   "outputs": [
    {
     "data": {
      "text/plain": [
       "<bound method BaseEstimator.get_params of KMeans(algorithm='auto', copy_x=True, init='k-means++', max_iter=300,\n",
       "       n_clusters=4, n_init=10, n_jobs=None, precompute_distances='auto',\n",
       "       random_state=3141593, tol=0.0001, verbose=0)>"
      ]
     },
     "execution_count": 20,
     "metadata": {},
     "output_type": "execute_result"
    }
   ],
   "source": [
    "kmeans_algo.get_params"
   ]
  },
  {
   "cell_type": "markdown",
   "metadata": {},
   "source": [
    "Data preparation for analysis."
   ]
  },
  {
   "cell_type": "code",
   "execution_count": 21,
   "metadata": {},
   "outputs": [],
   "source": [
    "kmeans_label = pd.DataFrame(data = kmeans_algo.labels_, columns=['Cluster'])"
   ]
  },
  {
   "cell_type": "code",
   "execution_count": 23,
   "metadata": {},
   "outputs": [],
   "source": [
    "cluster_results0     = pd.DataFrame(['Cluster 0','Cluster 1','Cluster 2','Cluster 3'], columns=['cluster_results'])\n",
    "cluster_results1     = pd.DataFrame(np.array(kmeans_label.groupby('Cluster')['Cluster'].count()), columns=['count'])\n",
    "cluster_results_grph = pd.concat([cluster_results0, cluster_results1], axis=1)"
   ]
  },
  {
   "cell_type": "markdown",
   "metadata": {},
   "source": [
    "Sanity check to see if the data points are not concentrated in one cluster."
   ]
  },
  {
   "cell_type": "code",
   "execution_count": 24,
   "metadata": {},
   "outputs": [
    {
     "data": {
      "image/png": "[encoded data removed]",
      "text/plain": [
       "<Figure size 432x288 with 1 Axes>"
      ]
     },
     "metadata": {},
     "output_type": "display_data"
    }
   ],
   "source": [
    "import matplotlib\n",
    "import matplotlib.pyplot as plt\n",
    "\n",
    "plt.pie(cluster_results_grph['count'],labels=cluster_results_grph['cluster_results'])\n",
    "plt.show()"
   ]
  },
  {
   "cell_type": "markdown",
   "metadata": {},
   "source": [
    "Identify the attributes of each cluster."
   ]
  },
  {
   "cell_type": "code",
   "execution_count": 25,
   "metadata": {},
   "outputs": [],
   "source": [
    "df_reset_index = df_for_kmeans2.reset_index()"
   ]
  },
  {
   "cell_type": "code",
   "execution_count": 26,
   "metadata": {},
   "outputs": [],
   "source": [
    "clustered_data = pd.concat([kmeans_label, df_reset_index], axis=1)"
   ]
  },
  {
   "cell_type": "code",
   "execution_count": 27,
   "metadata": {},
   "outputs": [],
   "source": [
    "cluster_zero  = clustered_data[clustered_data['Cluster']==0]\n",
    "cluster_one   = clustered_data[clustered_data['Cluster']==1]\n",
    "cluster_two   = clustered_data[clustered_data['Cluster']==2]\n",
    "cluster_three = clustered_data[clustered_data['Cluster']==3]"
   ]
  },
  {
   "cell_type": "code",
   "execution_count": 28,
   "metadata": {},
   "outputs": [
    {
     "data": {
      "text/html": [
       "<div>\n",
       "<style scoped>\n",
       "    .dataframe tbody tr th:only-of-type {\n",
       "        vertical-align: middle;\n",
       "    }\n",
       "\n",
       "    .dataframe tbody tr th {\n",
       "        vertical-align: top;\n",
       "    }\n",
       "\n",
       "    .dataframe thead th {\n",
       "        text-align: right;\n",
       "    }\n",
       "</style>\n",
       "<table border=\"1\" class=\"dataframe\">\n",
       "  <thead>\n",
       "    <tr style=\"text-align: right;\">\n",
       "      <th></th>\n",
       "      <th>FF_DEBT</th>\n",
       "      <th>FF_DFD_TAX_ITC</th>\n",
       "      <th>FF_PBK_SECS_CURR</th>\n",
       "      <th>FF_SALES</th>\n",
       "      <th>FF_CAPEX</th>\n",
       "    </tr>\n",
       "  </thead>\n",
       "  <tbody>\n",
       "    <tr>\n",
       "      <th>count</th>\n",
       "      <td>7.120000e+02</td>\n",
       "      <td>7.120000e+02</td>\n",
       "      <td>712.000000</td>\n",
       "      <td>7.120000e+02</td>\n",
       "      <td>7.120000e+02</td>\n",
       "    </tr>\n",
       "    <tr>\n",
       "      <th>mean</th>\n",
       "      <td>1.454312e+05</td>\n",
       "      <td>4.546666e+03</td>\n",
       "      <td>4.061567</td>\n",
       "      <td>2.492931e+05</td>\n",
       "      <td>3.663622e+04</td>\n",
       "    </tr>\n",
       "    <tr>\n",
       "      <th>std</th>\n",
       "      <td>1.803903e+06</td>\n",
       "      <td>6.974806e+04</td>\n",
       "      <td>10.302363</td>\n",
       "      <td>2.921731e+06</td>\n",
       "      <td>5.172301e+05</td>\n",
       "    </tr>\n",
       "    <tr>\n",
       "      <th>min</th>\n",
       "      <td>0.000000e+00</td>\n",
       "      <td>-3.677170e+05</td>\n",
       "      <td>0.228809</td>\n",
       "      <td>6.795700e+01</td>\n",
       "      <td>0.000000e+00</td>\n",
       "    </tr>\n",
       "    <tr>\n",
       "      <th>25%</th>\n",
       "      <td>1.617126e+03</td>\n",
       "      <td>1.603425e+02</td>\n",
       "      <td>1.452205</td>\n",
       "      <td>2.418510e+03</td>\n",
       "      <td>1.597750e+02</td>\n",
       "    </tr>\n",
       "    <tr>\n",
       "      <th>50%</th>\n",
       "      <td>3.448368e+03</td>\n",
       "      <td>3.736570e+02</td>\n",
       "      <td>2.261240</td>\n",
       "      <td>5.829500e+03</td>\n",
       "      <td>3.888720e+02</td>\n",
       "    </tr>\n",
       "    <tr>\n",
       "      <th>75%</th>\n",
       "      <td>1.012262e+04</td>\n",
       "      <td>1.145750e+03</td>\n",
       "      <td>3.527687</td>\n",
       "      <td>1.451485e+04</td>\n",
       "      <td>1.354181e+03</td>\n",
       "    </tr>\n",
       "    <tr>\n",
       "      <th>max</th>\n",
       "      <td>3.690129e+07</td>\n",
       "      <td>1.450752e+06</td>\n",
       "      <td>165.954000</td>\n",
       "      <td>5.644280e+07</td>\n",
       "      <td>1.123104e+07</td>\n",
       "    </tr>\n",
       "  </tbody>\n",
       "</table>\n",
       "</div>"
      ],
      "text/plain": [
       "            FF_DEBT  FF_DFD_TAX_ITC  FF_PBK_SECS_CURR      FF_SALES  \\\n",
       "count  7.120000e+02    7.120000e+02        712.000000  7.120000e+02   \n",
       "mean   1.454312e+05    4.546666e+03          4.061567  2.492931e+05   \n",
       "std    1.803903e+06    6.974806e+04         10.302363  2.921731e+06   \n",
       "min    0.000000e+00   -3.677170e+05          0.228809  6.795700e+01   \n",
       "25%    1.617126e+03    1.603425e+02          1.452205  2.418510e+03   \n",
       "50%    3.448368e+03    3.736570e+02          2.261240  5.829500e+03   \n",
       "75%    1.012262e+04    1.145750e+03          3.527687  1.451485e+04   \n",
       "max    3.690129e+07    1.450752e+06        165.954000  5.644280e+07   \n",
       "\n",
       "           FF_CAPEX  \n",
       "count  7.120000e+02  \n",
       "mean   3.663622e+04  \n",
       "std    5.172301e+05  \n",
       "min    0.000000e+00  \n",
       "25%    1.597750e+02  \n",
       "50%    3.888720e+02  \n",
       "75%    1.354181e+03  \n",
       "max    1.123104e+07  "
      ]
     },
     "execution_count": 28,
     "metadata": {},
     "output_type": "execute_result"
    }
   ],
   "source": [
    "cluster_zero[['FF_DEBT'\n",
    "            , 'FF_DFD_TAX_ITC'\n",
    "            , 'FF_PBK_SECS_CURR'\n",
    "            , 'FF_SALES'\n",
    "            , 'FF_CAPEX']].describe()"
   ]
  },
  {
   "cell_type": "code",
   "execution_count": 29,
   "metadata": {},
   "outputs": [
    {
     "data": {
      "text/html": [
       "<div>\n",
       "<style scoped>\n",
       "    .dataframe tbody tr th:only-of-type {\n",
       "        vertical-align: middle;\n",
       "    }\n",
       "\n",
       "    .dataframe tbody tr th {\n",
       "        vertical-align: top;\n",
       "    }\n",
       "\n",
       "    .dataframe thead th {\n",
       "        text-align: right;\n",
       "    }\n",
       "</style>\n",
       "<table border=\"1\" class=\"dataframe\">\n",
       "  <thead>\n",
       "    <tr style=\"text-align: right;\">\n",
       "      <th></th>\n",
       "      <th>FF_DEBT</th>\n",
       "      <th>FF_DFD_TAX_ITC</th>\n",
       "      <th>FF_PBK_SECS_CURR</th>\n",
       "      <th>FF_SALES</th>\n",
       "      <th>FF_CAPEX</th>\n",
       "    </tr>\n",
       "  </thead>\n",
       "  <tbody>\n",
       "    <tr>\n",
       "      <th>count</th>\n",
       "      <td>1271.000000</td>\n",
       "      <td>1271.000000</td>\n",
       "      <td>1271.000000</td>\n",
       "      <td>1271.000000</td>\n",
       "      <td>1271.000000</td>\n",
       "    </tr>\n",
       "    <tr>\n",
       "      <th>mean</th>\n",
       "      <td>96.629211</td>\n",
       "      <td>-0.715748</td>\n",
       "      <td>4.033472</td>\n",
       "      <td>435.063774</td>\n",
       "      <td>18.435832</td>\n",
       "    </tr>\n",
       "    <tr>\n",
       "      <th>std</th>\n",
       "      <td>212.792141</td>\n",
       "      <td>45.515796</td>\n",
       "      <td>18.202604</td>\n",
       "      <td>1353.138062</td>\n",
       "      <td>49.177881</td>\n",
       "    </tr>\n",
       "    <tr>\n",
       "      <th>min</th>\n",
       "      <td>0.000000</td>\n",
       "      <td>-429.212000</td>\n",
       "      <td>0.068641</td>\n",
       "      <td>0.000000</td>\n",
       "      <td>0.000000</td>\n",
       "    </tr>\n",
       "    <tr>\n",
       "      <th>25%</th>\n",
       "      <td>5.196500</td>\n",
       "      <td>-7.164000</td>\n",
       "      <td>1.182405</td>\n",
       "      <td>77.147065</td>\n",
       "      <td>2.199713</td>\n",
       "    </tr>\n",
       "    <tr>\n",
       "      <th>50%</th>\n",
       "      <td>36.559320</td>\n",
       "      <td>-0.740000</td>\n",
       "      <td>1.712130</td>\n",
       "      <td>181.745000</td>\n",
       "      <td>6.093000</td>\n",
       "    </tr>\n",
       "    <tr>\n",
       "      <th>75%</th>\n",
       "      <td>103.340458</td>\n",
       "      <td>3.326636</td>\n",
       "      <td>3.320275</td>\n",
       "      <td>410.017500</td>\n",
       "      <td>16.667000</td>\n",
       "    </tr>\n",
       "    <tr>\n",
       "      <th>max</th>\n",
       "      <td>4785.756000</td>\n",
       "      <td>932.593000</td>\n",
       "      <td>598.997000</td>\n",
       "      <td>36446.757000</td>\n",
       "      <td>943.116245</td>\n",
       "    </tr>\n",
       "  </tbody>\n",
       "</table>\n",
       "</div>"
      ],
      "text/plain": [
       "           FF_DEBT  FF_DFD_TAX_ITC  FF_PBK_SECS_CURR      FF_SALES  \\\n",
       "count  1271.000000     1271.000000       1271.000000   1271.000000   \n",
       "mean     96.629211       -0.715748          4.033472    435.063774   \n",
       "std     212.792141       45.515796         18.202604   1353.138062   \n",
       "min       0.000000     -429.212000          0.068641      0.000000   \n",
       "25%       5.196500       -7.164000          1.182405     77.147065   \n",
       "50%      36.559320       -0.740000          1.712130    181.745000   \n",
       "75%     103.340458        3.326636          3.320275    410.017500   \n",
       "max    4785.756000      932.593000        598.997000  36446.757000   \n",
       "\n",
       "          FF_CAPEX  \n",
       "count  1271.000000  \n",
       "mean     18.435832  \n",
       "std      49.177881  \n",
       "min       0.000000  \n",
       "25%       2.199713  \n",
       "50%       6.093000  \n",
       "75%      16.667000  \n",
       "max     943.116245  "
      ]
     },
     "execution_count": 29,
     "metadata": {},
     "output_type": "execute_result"
    }
   ],
   "source": [
    "cluster_one[['FF_DEBT'\n",
    "             , 'FF_DFD_TAX_ITC'\n",
    "             , 'FF_PBK_SECS_CURR'\n",
    "             , 'FF_SALES'\n",
    "             , 'FF_CAPEX']].describe()"
   ]
  },
  {
   "cell_type": "code",
   "execution_count": 30,
   "metadata": {},
   "outputs": [
    {
     "data": {
      "text/html": [
       "<div>\n",
       "<style scoped>\n",
       "    .dataframe tbody tr th:only-of-type {\n",
       "        vertical-align: middle;\n",
       "    }\n",
       "\n",
       "    .dataframe tbody tr th {\n",
       "        vertical-align: top;\n",
       "    }\n",
       "\n",
       "    .dataframe thead th {\n",
       "        text-align: right;\n",
       "    }\n",
       "</style>\n",
       "<table border=\"1\" class=\"dataframe\">\n",
       "  <thead>\n",
       "    <tr style=\"text-align: right;\">\n",
       "      <th></th>\n",
       "      <th>FF_DEBT</th>\n",
       "      <th>FF_DFD_TAX_ITC</th>\n",
       "      <th>FF_PBK_SECS_CURR</th>\n",
       "      <th>FF_SALES</th>\n",
       "      <th>FF_CAPEX</th>\n",
       "    </tr>\n",
       "  </thead>\n",
       "  <tbody>\n",
       "    <tr>\n",
       "      <th>count</th>\n",
       "      <td>1198.000000</td>\n",
       "      <td>1198.000000</td>\n",
       "      <td>1198.000000</td>\n",
       "      <td>1198.000000</td>\n",
       "      <td>1198.000000</td>\n",
       "    </tr>\n",
       "    <tr>\n",
       "      <th>mean</th>\n",
       "      <td>3968.170233</td>\n",
       "      <td>-130.675438</td>\n",
       "      <td>5.455204</td>\n",
       "      <td>4691.514371</td>\n",
       "      <td>217.162839</td>\n",
       "    </tr>\n",
       "    <tr>\n",
       "      <th>std</th>\n",
       "      <td>23226.295106</td>\n",
       "      <td>685.937769</td>\n",
       "      <td>28.331170</td>\n",
       "      <td>11638.846257</td>\n",
       "      <td>671.388094</td>\n",
       "    </tr>\n",
       "    <tr>\n",
       "      <th>min</th>\n",
       "      <td>5.325000</td>\n",
       "      <td>-14033.000000</td>\n",
       "      <td>0.056981</td>\n",
       "      <td>32.829272</td>\n",
       "      <td>0.000000</td>\n",
       "    </tr>\n",
       "    <tr>\n",
       "      <th>25%</th>\n",
       "      <td>315.899500</td>\n",
       "      <td>-66.004250</td>\n",
       "      <td>1.342040</td>\n",
       "      <td>698.268000</td>\n",
       "      <td>25.520519</td>\n",
       "    </tr>\n",
       "    <tr>\n",
       "      <th>50%</th>\n",
       "      <td>680.003000</td>\n",
       "      <td>-0.378997</td>\n",
       "      <td>2.251685</td>\n",
       "      <td>1453.001500</td>\n",
       "      <td>55.826500</td>\n",
       "    </tr>\n",
       "    <tr>\n",
       "      <th>75%</th>\n",
       "      <td>1811.693750</td>\n",
       "      <td>26.825250</td>\n",
       "      <td>4.148870</td>\n",
       "      <td>3261.575000</td>\n",
       "      <td>145.336750</td>\n",
       "    </tr>\n",
       "    <tr>\n",
       "      <th>max</th>\n",
       "      <td>520879.000000</td>\n",
       "      <td>493.787000</td>\n",
       "      <td>800.000000</td>\n",
       "      <td>142202.000000</td>\n",
       "      <td>13184.000000</td>\n",
       "    </tr>\n",
       "  </tbody>\n",
       "</table>\n",
       "</div>"
      ],
      "text/plain": [
       "             FF_DEBT  FF_DFD_TAX_ITC  FF_PBK_SECS_CURR       FF_SALES  \\\n",
       "count    1198.000000     1198.000000       1198.000000    1198.000000   \n",
       "mean     3968.170233     -130.675438          5.455204    4691.514371   \n",
       "std     23226.295106      685.937769         28.331170   11638.846257   \n",
       "min         5.325000   -14033.000000          0.056981      32.829272   \n",
       "25%       315.899500      -66.004250          1.342040     698.268000   \n",
       "50%       680.003000       -0.378997          2.251685    1453.001500   \n",
       "75%      1811.693750       26.825250          4.148870    3261.575000   \n",
       "max    520879.000000      493.787000        800.000000  142202.000000   \n",
       "\n",
       "           FF_CAPEX  \n",
       "count   1198.000000  \n",
       "mean     217.162839  \n",
       "std      671.388094  \n",
       "min        0.000000  \n",
       "25%       25.520519  \n",
       "50%       55.826500  \n",
       "75%      145.336750  \n",
       "max    13184.000000  "
      ]
     },
     "execution_count": 30,
     "metadata": {},
     "output_type": "execute_result"
    }
   ],
   "source": [
    "cluster_two[['FF_DEBT'\n",
    "             , 'FF_DFD_TAX_ITC'\n",
    "             , 'FF_PBK_SECS_CURR'\n",
    "             , 'FF_SALES'\n",
    "             , 'FF_CAPEX']].describe()"
   ]
  },
  {
   "cell_type": "code",
   "execution_count": 31,
   "metadata": {},
   "outputs": [
    {
     "data": {
      "text/html": [
       "<div>\n",
       "<style scoped>\n",
       "    .dataframe tbody tr th:only-of-type {\n",
       "        vertical-align: middle;\n",
       "    }\n",
       "\n",
       "    .dataframe tbody tr th {\n",
       "        vertical-align: top;\n",
       "    }\n",
       "\n",
       "    .dataframe thead th {\n",
       "        text-align: right;\n",
       "    }\n",
       "</style>\n",
       "<table border=\"1\" class=\"dataframe\">\n",
       "  <thead>\n",
       "    <tr style=\"text-align: right;\">\n",
       "      <th></th>\n",
       "      <th>FF_DEBT</th>\n",
       "      <th>FF_DFD_TAX_ITC</th>\n",
       "      <th>FF_PBK_SECS_CURR</th>\n",
       "      <th>FF_SALES</th>\n",
       "      <th>FF_CAPEX</th>\n",
       "    </tr>\n",
       "  </thead>\n",
       "  <tbody>\n",
       "    <tr>\n",
       "      <th>count</th>\n",
       "      <td>854.000000</td>\n",
       "      <td>854.000000</td>\n",
       "      <td>854.000000</td>\n",
       "      <td>854.000000</td>\n",
       "      <td>854.000000</td>\n",
       "    </tr>\n",
       "    <tr>\n",
       "      <th>mean</th>\n",
       "      <td>6.996442</td>\n",
       "      <td>-0.131268</td>\n",
       "      <td>5.287307</td>\n",
       "      <td>24.485097</td>\n",
       "      <td>1.647484</td>\n",
       "    </tr>\n",
       "    <tr>\n",
       "      <th>std</th>\n",
       "      <td>25.221067</td>\n",
       "      <td>6.738350</td>\n",
       "      <td>28.712433</td>\n",
       "      <td>48.622123</td>\n",
       "      <td>6.067634</td>\n",
       "    </tr>\n",
       "    <tr>\n",
       "      <th>min</th>\n",
       "      <td>0.000000</td>\n",
       "      <td>-76.703000</td>\n",
       "      <td>0.000464</td>\n",
       "      <td>-617.680000</td>\n",
       "      <td>0.000000</td>\n",
       "    </tr>\n",
       "    <tr>\n",
       "      <th>25%</th>\n",
       "      <td>0.000000</td>\n",
       "      <td>-0.719081</td>\n",
       "      <td>0.927600</td>\n",
       "      <td>0.650977</td>\n",
       "      <td>0.061537</td>\n",
       "    </tr>\n",
       "    <tr>\n",
       "      <th>50%</th>\n",
       "      <td>0.163779</td>\n",
       "      <td>0.000000</td>\n",
       "      <td>1.491420</td>\n",
       "      <td>12.703757</td>\n",
       "      <td>0.356990</td>\n",
       "    </tr>\n",
       "    <tr>\n",
       "      <th>75%</th>\n",
       "      <td>4.958500</td>\n",
       "      <td>0.513750</td>\n",
       "      <td>3.156313</td>\n",
       "      <td>28.806000</td>\n",
       "      <td>1.163500</td>\n",
       "    </tr>\n",
       "    <tr>\n",
       "      <th>max</th>\n",
       "      <td>509.622093</td>\n",
       "      <td>78.502000</td>\n",
       "      <td>682.759000</td>\n",
       "      <td>533.295100</td>\n",
       "      <td>119.126000</td>\n",
       "    </tr>\n",
       "  </tbody>\n",
       "</table>\n",
       "</div>"
      ],
      "text/plain": [
       "          FF_DEBT  FF_DFD_TAX_ITC  FF_PBK_SECS_CURR    FF_SALES    FF_CAPEX\n",
       "count  854.000000      854.000000        854.000000  854.000000  854.000000\n",
       "mean     6.996442       -0.131268          5.287307   24.485097    1.647484\n",
       "std     25.221067        6.738350         28.712433   48.622123    6.067634\n",
       "min      0.000000      -76.703000          0.000464 -617.680000    0.000000\n",
       "25%      0.000000       -0.719081          0.927600    0.650977    0.061537\n",
       "50%      0.163779        0.000000          1.491420   12.703757    0.356990\n",
       "75%      4.958500        0.513750          3.156313   28.806000    1.163500\n",
       "max    509.622093       78.502000        682.759000  533.295100  119.126000"
      ]
     },
     "execution_count": 31,
     "metadata": {},
     "output_type": "execute_result"
    }
   ],
   "source": [
    "cluster_three[['FF_DEBT'\n",
    "               , 'FF_DFD_TAX_ITC'\n",
    "               , 'FF_PBK_SECS_CURR'\n",
    "               , 'FF_SALES'\n",
    "               , 'FF_CAPEX']].describe()"
   ]
  },
  {
   "cell_type": "markdown",
   "metadata": {},
   "source": [
    "## Cluster Descriptions"
   ]
  },
  {
   "cell_type": "code",
   "execution_count": 99,
   "metadata": {},
   "outputs": [],
   "source": [
    "cluster0_df = pd.DataFrame(cluster_zero[['FF_DEBT'\n",
    "            , 'FF_DFD_TAX_ITC'\n",
    "            , 'FF_PBK_SECS_CURR'\n",
    "            , 'FF_SALES'\n",
    "            , 'FF_CAPEX']].describe()).loc[['mean']]\n",
    "\n",
    "cluster1_df = pd.DataFrame(cluster_one[['FF_DEBT'\n",
    "            , 'FF_DFD_TAX_ITC'\n",
    "            , 'FF_PBK_SECS_CURR'\n",
    "            , 'FF_SALES'\n",
    "            , 'FF_CAPEX']].describe()).loc[['mean']]\n",
    "\n",
    "cluster2_df = pd.DataFrame(cluster_two[['FF_DEBT'\n",
    "            , 'FF_DFD_TAX_ITC'\n",
    "            , 'FF_PBK_SECS_CURR'\n",
    "            , 'FF_SALES'\n",
    "            , 'FF_CAPEX']].describe()).loc[['mean']]\n",
    "\n",
    "cluster3_df = pd.DataFrame(cluster_three[['FF_DEBT'\n",
    "            , 'FF_DFD_TAX_ITC'\n",
    "            , 'FF_PBK_SECS_CURR'\n",
    "            , 'FF_SALES'\n",
    "            , 'FF_CAPEX']].describe()).loc[['mean']]"
   ]
  },
  {
   "cell_type": "code",
   "execution_count": 100,
   "metadata": {},
   "outputs": [],
   "source": [
    "means_data  = pd.concat([cluster0_df, cluster1_df, cluster2_df, cluster3_df])\n",
    "means_data1 = means_data.reset_index()\n",
    "means_data2 = means_data1[['FF_DEBT', 'FF_DFD_TAX_ITC', 'FF_PBK_SECS_CURR', 'FF_SALES', 'FF_CAPEX']]"
   ]
  },
  {
   "cell_type": "code",
   "execution_count": 101,
   "metadata": {},
   "outputs": [],
   "source": [
    "cluster_name = pd.DataFrame(np.array([0,1,2,3]), columns=['cluster_name'])"
   ]
  },
  {
   "cell_type": "code",
   "execution_count": 102,
   "metadata": {},
   "outputs": [],
   "source": [
    "summary_clusters = pd.concat([cluster_name, means_data2], axis=1)"
   ]
  },
  {
   "cell_type": "code",
   "execution_count": 103,
   "metadata": {},
   "outputs": [
    {
     "data": {
      "text/html": [
       "<div>\n",
       "<style scoped>\n",
       "    .dataframe tbody tr th:only-of-type {\n",
       "        vertical-align: middle;\n",
       "    }\n",
       "\n",
       "    .dataframe tbody tr th {\n",
       "        vertical-align: top;\n",
       "    }\n",
       "\n",
       "    .dataframe thead th {\n",
       "        text-align: right;\n",
       "    }\n",
       "</style>\n",
       "<table border=\"1\" class=\"dataframe\">\n",
       "  <thead>\n",
       "    <tr style=\"text-align: right;\">\n",
       "      <th></th>\n",
       "      <th>cluster_name</th>\n",
       "      <th>FF_DEBT</th>\n",
       "      <th>FF_DFD_TAX_ITC</th>\n",
       "      <th>FF_PBK_SECS_CURR</th>\n",
       "      <th>FF_SALES</th>\n",
       "      <th>FF_CAPEX</th>\n",
       "    </tr>\n",
       "  </thead>\n",
       "  <tbody>\n",
       "    <tr>\n",
       "      <th>0</th>\n",
       "      <td>0</td>\n",
       "      <td>145431.247402</td>\n",
       "      <td>4546.665521</td>\n",
       "      <td>4.061567</td>\n",
       "      <td>249293.132766</td>\n",
       "      <td>36636.218095</td>\n",
       "    </tr>\n",
       "    <tr>\n",
       "      <th>1</th>\n",
       "      <td>1</td>\n",
       "      <td>96.629211</td>\n",
       "      <td>-0.715748</td>\n",
       "      <td>4.033472</td>\n",
       "      <td>435.063774</td>\n",
       "      <td>18.435832</td>\n",
       "    </tr>\n",
       "    <tr>\n",
       "      <th>2</th>\n",
       "      <td>2</td>\n",
       "      <td>3968.170233</td>\n",
       "      <td>-130.675438</td>\n",
       "      <td>5.455204</td>\n",
       "      <td>4691.514371</td>\n",
       "      <td>217.162839</td>\n",
       "    </tr>\n",
       "    <tr>\n",
       "      <th>3</th>\n",
       "      <td>3</td>\n",
       "      <td>6.996442</td>\n",
       "      <td>-0.131268</td>\n",
       "      <td>5.287307</td>\n",
       "      <td>24.485097</td>\n",
       "      <td>1.647484</td>\n",
       "    </tr>\n",
       "  </tbody>\n",
       "</table>\n",
       "</div>"
      ],
      "text/plain": [
       "   cluster_name        FF_DEBT  FF_DFD_TAX_ITC  FF_PBK_SECS_CURR  \\\n",
       "0             0  145431.247402     4546.665521          4.061567   \n",
       "1             1      96.629211       -0.715748          4.033472   \n",
       "2             2    3968.170233     -130.675438          5.455204   \n",
       "3             3       6.996442       -0.131268          5.287307   \n",
       "\n",
       "        FF_SALES      FF_CAPEX  \n",
       "0  249293.132766  36636.218095  \n",
       "1     435.063774     18.435832  \n",
       "2    4691.514371    217.162839  \n",
       "3      24.485097      1.647484  "
      ]
     },
     "execution_count": 103,
     "metadata": {},
     "output_type": "execute_result"
    }
   ],
   "source": [
    "summary_cluster_df4"
   ]
  },
  {
   "cell_type": "markdown",
   "metadata": {},
   "source": [
    "Below are the cluster descriptions:\n",
    "\n",
    "Cluster 0: Tier 1 companies - Highest average sales revenue, highest average CAPEX spending among all the clusters. Only cluster with positive deferred tax. On average, CAPEX is 25% of debt - highest among all clusters.\n",
    "\n",
    "Cluster 1: Tier 3 companies - Average sales revenue of  435M, average CAPEX spending of 18M. On average, CAPEX is 18.75% of debt.\n",
    "\n",
    "Cluster 2: Tier 2 companies - Average sales revenue of 4.7B, average CAPEX spending of 217M. Cluster with the most negative deferred tax. On average, CAPEX is 5.4% of debt - lowest among all clusters.\n",
    "\n",
    "Cluster 3: Tier 4 companies - Average sales revenue of 24M, average CAPEX spending of 1.6M. On average, CAPEX is 23% of debt."
   ]
  },
  {
   "cell_type": "code",
   "execution_count": null,
   "metadata": {},
   "outputs": [],
   "source": []
  }
 ],
 "metadata": {
  "kernelspec": {
   "display_name": "Python 3",
   "language": "python",
   "name": "python3"
  },
  "language_info": {
   "codemirror_mode": {
    "name": "ipython",
    "version": 3
   },
   "file_extension": ".py",
   "mimetype": "text/x-python",
   "name": "python",
   "nbconvert_exporter": "python",
   "pygments_lexer": "ipython3",
   "version": "3.7.4"
  }
 },
 "nbformat": 4,
 "nbformat_minor": 2
}
